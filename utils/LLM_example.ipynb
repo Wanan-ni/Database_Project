{
 "cells": [
  {
   "cell_type": "markdown",
   "metadata": {},
   "source": [
    "pip install google-genai"
   ]
  },
  {
   "cell_type": "code",
   "execution_count": 3,
   "metadata": {},
   "outputs": [],
   "source": [
    "from google import genai\n",
    "import json"
   ]
  },
  {
   "cell_type": "code",
   "execution_count": 4,
   "metadata": {},
   "outputs": [],
   "source": [
    "def load_config():\n",
    "    with open(\"config.json\", \"r\") as file:\n",
    "        return json.load(file)"
   ]
  },
  {
   "cell_type": "code",
   "execution_count": 5,
   "metadata": {},
   "outputs": [],
   "source": [
    "config = load_config()\n",
    "API_KEY = config[\"API_KEY\"]"
   ]
  },
  {
   "cell_type": "code",
   "execution_count": 6,
   "metadata": {},
   "outputs": [],
   "source": [
    "class Custom_GenAI:\n",
    "\n",
    "    def __init__(self, API_KEY):\n",
    "        self.client = genai.Client(api_key=API_KEY)\n",
    "\n",
    "    def ask_ai(self, question):\n",
    "        response = self.client.models.generate_content(\n",
    "        model=\"gemini-2.0-flash\",\n",
    "        contents=question,\n",
    "        )\n",
    "\n",
    "        return response.text"
   ]
  },
  {
   "cell_type": "code",
   "execution_count": 7,
   "metadata": {},
   "outputs": [],
   "source": [
    "ai = Custom_GenAI(API_KEY)"
   ]
  },
  {
   "cell_type": "code",
   "execution_count": 17,
   "metadata": {},
   "outputs": [],
   "source": [
    "import time\n",
    "table_prompt =\"I have two talbe, one is student information(including name, gender, age, major) and another is students classes information(including student name, class name, class schedule, students performance), both these two table are stored in MySQL format. I already build these two table, their name are STUDENT_INFO and CLASS_INFO . Now I want you to help me solve following quesitions\\n\"\n",
    "\n",
    "# start = time.time()\n",
    "# res = ai.ask_ai(table_prompt)\n",
    "# cost_time = time.time()-start\n",
    "# print(f'inference cost:{cost_time} s')\n",
    "# print(res)"
   ]
  },
  {
   "cell_type": "code",
   "execution_count": 18,
   "metadata": {},
   "outputs": [
    {
     "name": "stdout",
     "output_type": "stream",
     "text": [
      "inference cost:0.636145830154419 s\n",
      "```sql\n",
      "SELECT DISTINCT CLASS_INFO.class_name\n",
      "FROM CLASS_INFO\n",
      "WHERE CLASS_INFO.student_name = 'Mary';\n",
      "```\n"
     ]
    }
   ],
   "source": [
    "ques1 = \"Now I wanna to find all classes mary take, please translate my demand into SQL code. Please just return SQL code without any descriptions\"\n",
    "start = time.time()\n",
    "res = ai.ask_ai(table_prompt + ques1)\n",
    "cost_time = time.time()-start\n",
    "print(f'inference cost:{cost_time} s')\n",
    "print(res)"
   ]
  },
  {
   "cell_type": "code",
   "execution_count": 19,
   "metadata": {},
   "outputs": [
    {
     "name": "stdout",
     "output_type": "stream",
     "text": [
      "inference cost:0.8008017539978027 s\n",
      "```sql\n",
      "SELECT\n",
      "    s.gender,\n",
      "    s.age\n",
      "FROM\n",
      "    Students s\n",
      "JOIN\n",
      "    Takes t ON s.student_id = t.student_id\n",
      "JOIN\n",
      "    Classes c ON t.class_id = c.class_id\n",
      "WHERE\n",
      "    c.class_name = 'algorithm';\n",
      "```\n",
      "\n"
     ]
    }
   ],
   "source": [
    "ques2 =  'Now I wanna to find students who take class \"algorithm\" and their gender and age, please translate my demand into SQL code. Please just return SQL code without any descriptions'\n",
    "start = time.time()\n",
    "res = ai.ask_ai(ques2)\n",
    "cost_time = time.time()-start\n",
    "print(f'inference cost:{cost_time} s')\n",
    "print(res)"
   ]
  },
  {
   "cell_type": "code",
   "execution_count": 20,
   "metadata": {},
   "outputs": [
    {
     "name": "stdout",
     "output_type": "stream",
     "text": [
      "inference cost:0.797558069229126 s\n",
      "```sql\n",
      "SELECT SI.gender, SI.age\n",
      "FROM STUDENT_INFO SI\n",
      "JOIN CLASS_INFO CI ON SI.name = CI.student_name\n",
      "WHERE CI.class_name = 'algorithm';\n",
      "```\n",
      "\n"
     ]
    }
   ],
   "source": [
    "ques2 =  'Now I wanna to find students who take class \"algorithm\" and their gender and age, please translate my demand into SQL code. Please just return SQL code without any descriptions'\n",
    "start = time.time()\n",
    "res = ai.ask_ai(table_prompt + ques2)\n",
    "cost_time = time.time()-start\n",
    "print(f'inference cost:{cost_time} s')\n",
    "print(res)"
   ]
  },
  {
   "cell_type": "code",
   "execution_count": null,
   "metadata": {},
   "outputs": [],
   "source": []
  }
 ],
 "metadata": {
  "kernelspec": {
   "display_name": "Python 3 (ipykernel)",
   "language": "python",
   "name": "python3"
  },
  "language_info": {
   "codemirror_mode": {
    "name": "ipython",
    "version": 3
   },
   "file_extension": ".py",
   "mimetype": "text/x-python",
   "name": "python",
   "nbconvert_exporter": "python",
   "pygments_lexer": "ipython3",
   "version": "3.12.5"
  }
 },
 "nbformat": 4,
 "nbformat_minor": 4
}
